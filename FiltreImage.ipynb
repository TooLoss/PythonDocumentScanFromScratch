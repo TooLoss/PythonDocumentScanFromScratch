{
 "cells": [
  {
   "cell_type": "code",
   "execution_count": 1,
   "id": "17dc09b4b4247621",
   "metadata": {
    "ExecuteTime": {
     "end_time": "2025-02-02T21:37:11.237464Z",
     "start_time": "2025-02-02T21:37:10.754307Z"
    }
   },
   "outputs": [
    {
     "ename": "IndentationError",
     "evalue": "expected an indented block after function definition on line 6 (filter.py, line 7)",
     "output_type": "error",
     "traceback": [
      "Traceback \u001b[0;36m(most recent call last)\u001b[0m:\n",
      "\u001b[0m  File \u001b[1;32m/data/data/com.termux/files/usr/lib/python3.12/site-packages/IPython/core/interactiveshell.py:3577\u001b[0m in \u001b[1;35mrun_code\u001b[0m\n    exec(code_obj, self.user_global_ns, self.user_ns)\u001b[0m\n",
      "\u001b[0;36m  Cell \u001b[0;32mIn[1], line 3\u001b[0;36m\n\u001b[0;31m    import filter as f\u001b[0;36m\n",
      "\u001b[0;36m  File \u001b[0;32m/storage/emulated/0/CodeProjects/tipe-image-scan/filter.py:7\u001b[0;36m\u001b[0m\n\u001b[0;31m    x, y = I.shape\u001b[0m\n\u001b[0m    ^\u001b[0m\n\u001b[0;31mIndentationError\u001b[0m\u001b[0;31m:\u001b[0m expected an indented block after function definition on line 6\n"
     ]
    }
   ],
   "source": [
    "import main as m\n",
    "import homography as h\n",
    "import filter as f\n",
    "import matplotlib.pyplot as plt\n",
    "from matplotlib import ticker\n",
    "import numpy as np\n",
    "from PIL import Image\n",
    "\n",
    "from homography import FillBasedOnNeighbour"
   ]
  },
  {
   "cell_type": "code",
   "execution_count": null,
   "id": "initial_id",
   "metadata": {
    "ExecuteTime": {
     "end_time": "2025-02-02T21:37:11.278364Z",
     "start_time": "2025-02-02T21:37:11.241471Z"
    }
   },
   "outputs": [],
   "source": [
    "I = Image.open(\"images/rawtransparent.png\", mode=\"r\").convert('RGBA')\n",
    "image_array = np.array(I)\n",
    "\n",
    "alpha = image_array[..., 3]\n",
    "Img = (0.299 * image_array[..., 0] +\n",
    "             0.587 * image_array[..., 1] +\n",
    "             0.114 * image_array[..., 2]).astype(np.float32)\n",
    "Img[alpha == 0] = -1"
   ]
  },
  {
   "cell_type": "code",
   "execution_count": null,
   "id": "a215c4c94bb0416c",
   "metadata": {
    "ExecuteTime": {
     "end_time": "2025-02-02T21:38:37.744300Z",
     "start_time": "2025-02-02T21:37:11.590466Z"
    }
   },
   "outputs": [],
   "source": [
    "NewImage = h.FillBasedOnNeighbour(Img)\n",
    "Sharp = f.Unsharp(NewImage)\n",
    "CannyX, CannyY = m.Canny(Sharp)\n",
    "Angle, Edge = m.NormeAngle(CannyX, CannyY)"
   ]
  },
  {
   "cell_type": "code",
   "execution_count": 2,
   "id": "65af5950-503d-4ae8-93bf-c5ac674a822b",
   "metadata": {},
   "outputs": [
    {
     "ename": "NameError",
     "evalue": "name 'f' is not defined",
     "output_type": "error",
     "traceback": [
      "\u001b[0;31m---------------------------------------------------------------------------\u001b[0m",
      "\u001b[0;31mNameError\u001b[0m                                 Traceback (most recent call last)",
      "Cell \u001b[0;32mIn[2], line 1\u001b[0m\n\u001b[0;32m----> 1\u001b[0m m\u001b[38;5;241m.\u001b[39mAfficher(\u001b[43mf\u001b[49m\u001b[38;5;241m.\u001b[39mFADIT(NewImage, (\u001b[38;5;241m0\u001b[39m, \u001b[38;5;241m100\u001b[39m)))\n",
      "\u001b[0;31mNameError\u001b[0m: name 'f' is not defined"
     ]
    }
   ],
   "source": [
    "m.Afficher(f.FADIT(NewImage, (0, 100)))"
   ]
  },
  {
   "cell_type": "code",
   "execution_count": null,
   "id": "31b4747d-c6ed-4f12-a872-03ea6b37004a",
   "metadata": {},
   "outputs": [],
   "source": []
  }
 ],
 "metadata": {
  "kernelspec": {
   "display_name": "Python 3 (ipykernel)",
   "language": "python",
   "name": "python3"
  },
  "language_info": {
   "codemirror_mode": {
    "name": "ipython",
    "version": 3
   },
   "file_extension": ".py",
   "mimetype": "text/x-python",
   "name": "python",
   "nbconvert_exporter": "python",
   "pygments_lexer": "ipython3",
   "version": "3.12.8"
  }
 },
 "nbformat": 4,
 "nbformat_minor": 5
}
