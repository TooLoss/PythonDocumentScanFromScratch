{
 "cells": [
  {
   "cell_type": "code",
   "id": "17dc09b4b4247621",
   "metadata": {
    "ExecuteTime": {
     "end_time": "2025-05-13T15:59:44.039161Z",
     "start_time": "2025-05-13T15:59:42.585324Z"
    }
   },
   "source": [
    "import main as m\n",
    "import homography as h\n",
    "import filter as f\n",
    "import matplotlib.pyplot as plt\n",
    "from matplotlib import ticker\n",
    "import numpy as np\n",
    "from PIL import Image\n",
    "\n",
    "from homography import FillBasedOnNeighbour"
   ],
   "outputs": [],
   "execution_count": 1
  },
  {
   "cell_type": "code",
   "id": "initial_id",
   "metadata": {
    "ExecuteTime": {
     "end_time": "2025-05-13T15:59:44.160225Z",
     "start_time": "2025-05-13T15:59:44.049680Z"
    }
   },
   "source": [
    "I = Image.open(\"images/rawtransparent.png\", mode=\"r\").convert('RGBA')\n",
    "image_array = np.array(I)\n",
    "\n",
    "alpha = image_array[..., 3]\n",
    "Img = (0.299 * image_array[..., 0] +\n",
    "             0.587 * image_array[..., 1] +\n",
    "             0.114 * image_array[..., 2]).astype(np.float32)\n",
    "Img[alpha == 0] = -1"
   ],
   "outputs": [],
   "execution_count": 2
  },
  {
   "cell_type": "code",
   "execution_count": null,
   "id": "a215c4c94bb0416c",
   "metadata": {
    "ExecuteTime": {
     "end_time": "2025-02-02T21:38:37.744300Z",
     "start_time": "2025-02-02T21:37:11.590466Z"
    }
   },
   "outputs": [],
   "source": [
    "NewImage = h.FillBasedOnNeighbour(Img)\n",
    "Sharp = f.Unsharp(NewImage)\n",
    "CannyX, CannyY = m.Canny(Sharp)\n",
    "Angle, Edge = m.NormeAngle(CannyX, CannyY)"
   ]
  },
  {
   "cell_type": "code",
   "execution_count": 2,
   "id": "65af5950-503d-4ae8-93bf-c5ac674a822b",
   "metadata": {},
   "outputs": [
    {
     "ename": "NameError",
     "evalue": "name 'f' is not defined",
     "output_type": "error",
     "traceback": [
      "\u001B[0;31m---------------------------------------------------------------------------\u001B[0m",
      "\u001B[0;31mNameError\u001B[0m                                 Traceback (most recent call last)",
      "Cell \u001B[0;32mIn[2], line 1\u001B[0m\n\u001B[0;32m----> 1\u001B[0m m\u001B[38;5;241m.\u001B[39mAfficher(\u001B[43mf\u001B[49m\u001B[38;5;241m.\u001B[39mFADIT(NewImage, (\u001B[38;5;241m0\u001B[39m, \u001B[38;5;241m100\u001B[39m)))\n",
      "\u001B[0;31mNameError\u001B[0m: name 'f' is not defined"
     ]
    }
   ],
   "source": [
    "m.Afficher(f.FADIT(NewImage, (0, 100)))"
   ]
  },
  {
   "cell_type": "code",
   "execution_count": null,
   "id": "31b4747d-c6ed-4f12-a872-03ea6b37004a",
   "metadata": {},
   "outputs": [],
   "source": []
  }
 ],
 "metadata": {
  "kernelspec": {
   "display_name": "Python 3 (ipykernel)",
   "language": "python",
   "name": "python3"
  },
  "language_info": {
   "codemirror_mode": {
    "name": "ipython",
    "version": 3
   },
   "file_extension": ".py",
   "mimetype": "text/x-python",
   "name": "python",
   "nbconvert_exporter": "python",
   "pygments_lexer": "ipython3",
   "version": "3.12.8"
  }
 },
 "nbformat": 4,
 "nbformat_minor": 5
}
