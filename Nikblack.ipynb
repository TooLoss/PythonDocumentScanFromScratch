{
 "cells": [
  {
   "cell_type": "code",
   "id": "9f2bc1b8-ce5a-4381-b697-a5caa95db8cf",
   "metadata": {
    "ExecuteTime": {
     "end_time": "2025-05-13T16:34:37.801755Z",
     "start_time": "2025-05-13T16:34:36.963386Z"
    }
   },
   "source": [
    "import main as m\n",
    "import homography as h\n",
    "import filter as f\n",
    "import matplotlib.pyplot as plt\n",
    "from matplotlib import ticker\n",
    "import numpy as np\n",
    "from PIL import Image\n",
    "from numba import jit"
   ],
   "outputs": [],
   "execution_count": 1
  },
  {
   "cell_type": "code",
   "id": "04222ca5-8199-470a-bffc-0bb7817e4916",
   "metadata": {},
   "source": [
    "I = m.Compresser(m.ImportAsPng(\"export/Rebuild.png\"), 5)\n",
    "m.Afficher(I)"
   ],
   "outputs": [],
   "execution_count": null
  },
  {
   "cell_type": "code",
   "id": "7856cf5a-94c6-431e-bf40-ee16333cdae5",
   "metadata": {},
   "source": [
    "Norme = 0"
   ],
   "outputs": [],
   "execution_count": null
  },
  {
   "cell_type": "code",
   "id": "e263db90-d1ee-45e1-9ba2-d4fa1a9c3639",
   "metadata": {},
   "source": [
    "def NormeLocale(M, C:(int, int), n=1):\n",
    "    '''\n",
    "    M : Image\n",
    "    C : Taille de la plage\n",
    "    n : norme 1, 2 ...\n",
    "    return l'intégrale dans la plage [0,x], [0,y]\n",
    "    '''\n",
    "    x, y = C\n",
    "    mx, my = M.shape\n",
    "    I = 0\n",
    "    for i in range(x):\n",
    "    \tfor j in range(y):\n",
    "            if x<mx and y<my:\n",
    "                I += M[i,j]**n\n",
    "    return I"
   ],
   "outputs": [],
   "execution_count": null
  },
  {
   "cell_type": "code",
   "id": "54f0c7e3-d535-444a-8a57-ee0ded4eaee1",
   "metadata": {},
   "source": [
    "def MoyenneRectange(M, C, T):\n",
    "    '''\n",
    "    M : Image\n",
    "    n : Moyenne 1, 2, ...\n",
    "    C : Position du pixel\n",
    "    T : Taille du rectangle \n",
    "    '''\n",
    "    x,y = C\n",
    "    dx,dy = T\n",
    "    maxx, maxy = M.shape\n",
    "    if x-dx<0 or y-dy<0 or x+dx>=maxx-1 or y+dy>=maxy-1:\n",
    "        dx = min(maxx-x-1, x)\n",
    "        dy = min(maxy-y-1, y)\n",
    "    N = (2*dx+1)*(2*dy+1)\n",
    "    m = (NormeLocale(M,(x+dx,y+dy),1) + NormeLocale(M,(x-dx,y-dy),1)\n",
    "         - NormeLocale(M,(x-dx,y-dy),1) - NormeLocale(M,(x+dx,y-dy),1))*(1/N)\n",
    "    return m"
   ],
   "outputs": [],
   "execution_count": null
  },
  {
   "cell_type": "code",
   "id": "f4adeebc-8d7e-4d61-bb88-99fe282faa3b",
   "metadata": {},
   "source": [
    "def VarianceRectangle(M, C:(int,int), T:(int,int)):\n",
    "    '''\n",
    "    M : Image\n",
    "    (x,y) : Position du pixel\n",
    "    (dx,dy) : Taille du rectangle \n",
    "    '''\n",
    "    x,y = C\n",
    "    dx,dy = T\n",
    "    N = (2*dx+1)*(2*dy+1)\n",
    "    S = (NormeLocale(M,(x+dx,y+dy),2) + NormeLocale(M,(x-dx,y-dy),2)\n",
    "         - NormeLocale(M,(x+dx,y-dy),2) - NormeLocale(M,(x+dx,y-dy),2))*1/(N-1) - (1/N)*(MoyenneRectange(M,(x,y),(dx,dy))*N)**2\n",
    "    return S"
   ],
   "outputs": [],
   "execution_count": null
  },
  {
   "cell_type": "code",
   "id": "47220b55-2dde-4700-8784-16393c301b5d",
   "metadata": {},
   "source": [
    "def Niblack(I, k, S):\n",
    "    x,y = I.shape\n",
    "    P = []\n",
    "    for i in range(x):\n",
    "        for j in range(y):\n",
    "            m = MoyenneRectange(I, (i,j), (S,S))\n",
    "            v = VarianceRectangle(I, (i,j), (S,S))\n",
    "            P.append((m, v))\n",
    "        print(\"Row\")\n",
    "    return P"
   ],
   "outputs": [],
   "execution_count": null
  },
  {
   "cell_type": "code",
   "id": "3fd5a8ba-ecdd-48d2-8067-31f7f4aa0639",
   "metadata": {},
   "source": [],
   "outputs": [],
   "execution_count": null
  },
  {
   "cell_type": "code",
   "id": "037dcd1d-aeab-47df-b8ff-ca64ef232162",
   "metadata": {},
   "source": [],
   "outputs": [],
   "execution_count": null
  },
  {
   "metadata": {
    "ExecuteTime": {
     "end_time": "2025-05-13T16:34:42.011925Z",
     "start_time": "2025-05-13T16:34:41.332379Z"
    }
   },
   "cell_type": "code",
   "source": [
    "A = np.zeros((100, 100))\n",
    "B = np.zeros((100, 100))\n",
    "\n",
    "print(m.Produit(A,B))"
   ],
   "id": "7f213868f313415d",
   "outputs": [
    {
     "name": "stdout",
     "output_type": "stream",
     "text": [
      "[[0. 0. 0. ... 0. 0. 0.]\n",
      " [0. 0. 0. ... 0. 0. 0.]\n",
      " [0. 0. 0. ... 0. 0. 0.]\n",
      " ...\n",
      " [0. 0. 0. ... 0. 0. 0.]\n",
      " [0. 0. 0. ... 0. 0. 0.]\n",
      " [0. 0. 0. ... 0. 0. 0.]]\n"
     ]
    }
   ],
   "execution_count": 2
  },
  {
   "metadata": {},
   "cell_type": "code",
   "source": "",
   "id": "5e64beffe31fe1a4",
   "outputs": [],
   "execution_count": null
  }
 ],
 "metadata": {
  "kernelspec": {
   "display_name": "Python 3 (ipykernel)",
   "language": "python",
   "name": "python3"
  },
  "language_info": {
   "codemirror_mode": {
    "name": "ipython",
    "version": 3
   },
   "file_extension": ".py",
   "mimetype": "text/x-python",
   "name": "python",
   "nbconvert_exporter": "python",
   "pygments_lexer": "ipython3",
   "version": "3.12.8"
  }
 },
 "nbformat": 4,
 "nbformat_minor": 5
}
