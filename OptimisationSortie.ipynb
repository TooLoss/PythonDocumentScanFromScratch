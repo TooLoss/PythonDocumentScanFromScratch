{
 "cells": [
  {
   "cell_type": "markdown",
   "id": "8fa2a47e-302f-4b33-a9b9-14a2c67b7d6c",
   "metadata": {},
   "source": [
    "## Optimisation de la taille de la sortie"
   ]
  },
  {
   "cell_type": "code",
   "id": "ebe0e15c-a99d-4886-b9b6-26ea3acc1082",
   "metadata": {},
   "source": [
    "from PIL import Image\n",
    "import main as m\n",
    "import homography as h\n",
    "import matplotlib.pyplot as plt\n",
    "import numpy as np"
   ],
   "outputs": [],
   "execution_count": null
  },
  {
   "cell_type": "code",
   "id": "3852ca2a-fcab-41d5-b5e3-baeded54bce1",
   "metadata": {},
   "source": [
    "N = 10\n",
    "NonAffectes = []\n",
    "SurAffectes = []"
   ],
   "outputs": [],
   "execution_count": null
  },
  {
   "cell_type": "code",
   "id": "8de7e661-9dd2-46b5-a901-f487023c7c67",
   "metadata": {},
   "source": [
    "MargesListe = np.linspace(20, 200, N)\n",
    "I = Image.open(\"images/Affine1.jpg\", mode=\"r\").convert('L')\n",
    "Img = m.Compresser(np.array(I), 1)\n",
    "print(MargesListe)"
   ],
   "outputs": [],
   "execution_count": null
  },
  {
   "cell_type": "code",
   "id": "d9b43933-d5cf-4d8c-b5b2-a341a0f4f48e",
   "metadata": {
    "ExecuteTime": {
     "end_time": "2024-11-10T22:53:08.055090Z",
     "start_time": "2024-11-10T22:53:08.051543Z"
    }
   },
   "source": [
    "for margin in MargesListe:\n",
    "    margin = round(margin)\n",
    "    print(margin)\n",
    "    PE = np.array([\n",
    "    [1000, 55],\n",
    "    [755, 920],\n",
    "    [270, 130],\n",
    "    [20, 1000]\n",
    "    ])\n",
    "    PS = np.array([\n",
    "    [1024-margin, margin],\n",
    "    [1024-margin, 1024-margin],\n",
    "    [margin, margin],\n",
    "    [margin, 1024-margin]\n",
    "    ])\n",
    "    xe, ye = PE.T\n",
    "    xs, ys = PS.T\n",
    "\n",
    "    f_Image, e_suraffectations = h.TransformationProjective(Img, PE, PS)\n",
    "    e_nonaffecte = h.ErrorNonAffected(f_Image, [[margin, margin],\n",
    "                                   [1024-margin, margin],\n",
    "                                   [margin, 1024-margin],\n",
    "                                   [1024-margin, 1024-margin]])\n",
    "    NonAffectes.append(e_nonaffecte / (1024-2*margin)**2)\n",
    "    SurAffectes.append(e_suraffectations / 1024**2)"
   ],
   "outputs": [],
   "execution_count": 4
  },
  {
   "cell_type": "code",
   "id": "03828898-399c-460d-aff8-6e034c077baa",
   "metadata": {
    "ExecuteTime": {
     "end_time": "2024-11-10T22:52:40.829505Z",
     "start_time": "2024-11-10T22:52:40.826480Z"
    }
   },
   "source": [
    "X = 1024 - 2*MargesListe\n",
    "Pertes = 1024/X\n",
    "plt.figure()\n",
    "plt.plot(X, NonAffectes, marker='o', color='red', label=\"Taux non-affecté\")\n",
    "plt.plot(X, SurAffectes, marker='o',  color='blue', label=\"Taux sur-affecté\")\n",
    "#plt.plot(X, Pertes, color='green', label=\"Taux perte de données\")\n",
    "plt.xlabel(\"Longueur du carée final\")\n",
    "plt.ylabel(\"Taux\")\n",
    "plt.title(\"Courbe du pourcentage d'erreurs\")\n",
    "plt.legend()\n",
    "plt.show()"
   ],
   "outputs": [],
   "execution_count": 2
  },
  {
   "cell_type": "code",
   "id": "9a3aaf67-e2ed-4fc1-9685-9ba7671978aa",
   "metadata": {
    "ExecuteTime": {
     "end_time": "2024-11-10T22:52:41.553470Z",
     "start_time": "2024-11-10T22:52:41.154217Z"
    }
   },
   "source": [],
   "outputs": [
    {
     "name": "stdout",
     "output_type": "stream",
     "text": [
      "[ 20.  40.  60.  80. 100. 120. 140. 160. 180. 200.]\n"
     ]
    }
   ],
   "execution_count": null
  }
 ],
 "metadata": {
  "kernelspec": {
   "display_name": "Python 3 (ipykernel)",
   "language": "python",
   "name": "python3"
  },
  "language_info": {
   "codemirror_mode": {
    "name": "ipython",
    "version": 3
   },
   "file_extension": ".py",
   "mimetype": "text/x-python",
   "name": "python",
   "nbconvert_exporter": "python",
   "pygments_lexer": "ipython3",
   "version": "3.11.9"
  }
 },
 "nbformat": 4,
 "nbformat_minor": 5
}
